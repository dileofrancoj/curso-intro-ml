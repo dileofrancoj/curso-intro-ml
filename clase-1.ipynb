{
 "cells": [
  {
   "cell_type": "markdown",
   "id": "5f029fc2",
   "metadata": {},
   "source": [
    "# Introducción al Machine Learning"
   ]
  },
  {
   "cell_type": "markdown",
   "id": "69a5b132",
   "metadata": {},
   "source": [
    "## Temas clase 1\n",
    "\n",
    "- Inteligencia Artificial y Machine Learning\n",
    "- Algoritmos de predicción y clasificación\n",
    "- Rectas y planos (funciones)\n",
    "- Regresión lineal simple\n",
    "- Ejemplo"
   ]
  }
 ],
 "metadata": {
  "kernelspec": {
   "display_name": "Python 3 (ipykernel)",
   "language": "python",
   "name": "python3"
  },
  "language_info": {
   "codemirror_mode": {
    "name": "ipython",
    "version": 3
   },
   "file_extension": ".py",
   "mimetype": "text/x-python",
   "name": "python",
   "nbconvert_exporter": "python",
   "pygments_lexer": "ipython3",
   "version": "3.10.9"
  }
 },
 "nbformat": 4,
 "nbformat_minor": 5
}
