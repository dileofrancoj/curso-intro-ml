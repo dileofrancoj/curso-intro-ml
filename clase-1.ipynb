{
 "cells": [
  {
   "cell_type": "markdown",
   "id": "bb4a84f4",
   "metadata": {},
   "source": [
    "# Introducción al Machine Learning"
   ]
  },
  {
   "cell_type": "markdown",
   "id": "891c6a6b",
   "metadata": {},
   "source": [
    "## Temas clase 1\n",
    "\n",
    "- Inteligencia Artificial y Machine Learning\n",
    "- Algoritmos de predicción y clasificación\n",
    "- Rectas y planos (funciones)\n",
    "- Regresión lineal simple\n",
    "- Ejemplo\n",
    "\n",
    "[Repositorio del curso](https://github.com/dileofrancoj/curso-intro-ml)"
   ]
  },
  {
   "cell_type": "markdown",
   "id": "6f2f3627",
   "metadata": {},
   "source": [
    "## Inteligencia Artificial\n",
    "\n",
    "Es una rama de la informática que se ocupa de desarrollar algoritmos y técnicas para que las computadoras realicen tareas que requieren inteligencia humana como pueden ser el reconocimiento de patrones, aprendizaje automático, toma de decisiones y resolución de problemas complejos. La IA busca simular la inteligencia humana y crear sistemas que puedan imitarla o superarla.\n",
    "\n",
    "### IA APLICADA: \n",
    "\n",
    "Se enfoca en la realización de tareas específicas\n",
    "\n",
    "### IA FUERTE:\n",
    "\n",
    "Desarrollo de sistemas que puedan realizar cualquier tarea intelectual\n",
    "\n",
    "## Machine Learning\n",
    "\n",
    "Es una rama de la IA que permite a las computadoras aprender sin ser programadas explícitamente. Se basa en la idea de que las computadoras pueden aprender de los datos y hacer predicciones o tomar decisiones basadas en patrones que encuentran.\n",
    "\n",
    "- Sistemas de recomendación (Netflix, Spotify)\n",
    "- Clasificación de imágenes\n",
    "- Diagnóstico médico\n",
    "\n",
    "> Cabe aclarar que esto no es válido solo para Python si no que también se puede llevar a la web con Javascript, podemos llevarlo a electrónica y a C++\n",
    "\n",
    "[Un ejemplo en la web](https://dileofrancoj.github.io/color-palette/)\n",
    "\n",
    "![áreas de la IA](files/foto-1.png)\n",
    "\n",
    "### Deep learning\n",
    "\n",
    "El deep learning es un tipo de machine learning que entrena a una computadora para que realice tareas como las hacemos los seres humanos, como el reconocimiento del habla, la identificación de imágenes o hacer predicciones. En lugar de organizar datos para que se ejecuten a través de ecuaciones predefinidas, el deep learning configura parámetros básicos acerca de los datos y entrena a la computadora para que aprenda por cuenta propia reconociendo patrones mediante el uso de muchas capas de procesamiento.\n"
   ]
  },
  {
   "cell_type": "markdown",
   "id": "30fbe558",
   "metadata": {},
   "source": [
    "## Clasificación de los algoritmos\n",
    "\n",
    "### Aprendizaje supervisado: \n",
    "\n",
    "Utiliza datos etiquetados para predecir valores desconocidos. En este enfoque el modelo aprende a partir de un conjunto de ejemplos que tienen una entrada y una salida correspondiente definida. El típico ejemplo es el precio de una casa. A su vez, estos algoritmos se pueden dividir en:\n",
    "- Regresión: Utilizado para problemas de predicción numérica\n",
    "- Clasificación: Para problemas de clasificación binarios o multiclase (imagenes, spam,  aspiradora, etc)\n",
    "\n",
    "### Aprendizaje no supervisado:\n",
    "\n",
    "Se utiliza comunmente para descubrir patrones o estructuras en datos no etiquetados. Por ejemplo, el motor de noticas de google agrupa noticias similares. Se puede utilizar para agrupar patrones medicos a través de fotos.\n",
    "\n",
    "- Clustering: Agrupar datos basados en similitud\n",
    "- Reducción de dimensionalidad: Reducen la cantidad de features del conjunto.\n",
    "\n",
    "### Aprendizaje por refuerzo:\n",
    "\n",
    "Este tipo de algoritmos aprenden mediante la interacción con el ambiente recibiendo recompensas o castigos por cada acción realizada. El objetivo es maximizar la recompensa a largo plazo. Muy útiles para videojuegos\n",
    "\n",
    "### Aprendizaje profundo\n",
    "\n",
    "Este tipo de algoritmos se basa en redes neuronales profundas para aprender patrones y características complejas de los datos. Estos algoritmos se han utilizado con éxito en tareas de procesamiento de imágenes, voz y lenguaje natural, entre otras.\n",
    "\n",
    "### Aprendizaje semi-supervisado\n",
    "\n",
    "Combina el aprendizaje supervisado y el no supervisado para aprovechar datos etiquetados y no etiquetados para entrenar un modelo.\n"
   ]
  },
  {
   "cell_type": "markdown",
   "id": "06928fee",
   "metadata": {},
   "source": [
    "### Rectas, planos e hierplanos\n",
    "\n",
    "![Rectas en el plano](files/foto-2.png)\n",
    "\n",
    "Planos en el espacio\n",
    "\n",
    "![Rectas en el plano](files/foto-3.png)\n",
    "\n",
    "### Distancia euclideana\n",
    "\n",
    "La distancia entre dos puntos del espacio euclídeo equivale a la longitud del segmento de la recta que los une\n",
    "\n",
    "![Rectas en el plano](files/foto-4.png)\n",
    "\n",
    "La distancia entre 2 puntos definida en un espacio euclideo puede calcularse de la siguiente forma:\n",
    "\n",
    "D(AB) = SQRT[(X2-X1)^2 + (Y2-Y1)^2]\n",
    "\n",
    "Ejemplo:\n",
    "Si tomamos el punto A = {1,1} y B = {1,2}\n",
    "\n",
    "D(AB) = SQRT[(1-1)^2 + (2-1)^2] = 1\n",
    "\n",
    "> En matemáticas podemos calcular distintos tipos de distancia inducida por diferentes espacios métricos.\n",
    "\n",
    "**Estos conceptos resultan de espcial interés para los temas de regresión lineal que veremos a continuación**"
   ]
  },
  {
   "cell_type": "markdown",
   "id": "049f0348",
   "metadata": {},
   "source": [
    "## Regresión lineal simple\n",
    "\n",
    "Desde el punto estadístico, la regresión es una técnica que se utiliza para modelar la relación entre dos variables cuantitativs. La idea es encontrar la recta que mejor se ajuste a los datos y permita hacer predicciones. La recta de regresión se construye utilizando los conceptos de media y covarianza y los coeficientes de la recta se estiman mediante métodos de optimización. Minimizamos el error cuadrático medio entre los valores reales y predichos.\n",
    "\n",
    "### Error o Bias\n",
    "\n",
    "Es una medida de la diferencia entre los valores reales y los previstos por el modelo\n",
    "\n",
    "### MAE (Mean squared error)\n",
    "\n",
    "![Rectas en el plano](files/foto-5.png)\n",
    "\n",
    "### MSE (Mean Squared Error)\n",
    "\n",
    "Es la función de costo comunmente utilizada en la regresión lineal. Mide el promedio de los errores cuadrados entre las predicciones y los valores reales.\n",
    "\n",
    "![Rectas en el plano](files/foto-6.png)\n",
    "\n",
    "### RMSE (Root mean squared error)\n",
    "\n",
    "Es la raíz cuadrada del MSE\n",
    "\n",
    "**RMSE = SQRT(MSE)**\n",
    "\n",
    "**Ventajas:**\n",
    "\n",
    "- El MSE y RMSE penaliza los errores grandes más fuertemente que los errores pequeños.\n",
    "- El RMSE es fácil de interpretar como una cantidad absoluta en la misma unidad que los valores reales. (Como es el desvío estándar respecto a la varianza)\n",
    "\n",
    "**Desventajas:**\n",
    "- No es robusto respecto a Outliers\n",
    "- No es una medida válida para problemas de clasificación"
   ]
  },
  {
   "cell_type": "markdown",
   "id": "b1bb0365",
   "metadata": {},
   "source": [
    "### Predicción de temperatura Fahrenheit a partir de Celsius"
   ]
  },
  {
   "cell_type": "code",
   "execution_count": 3,
   "id": "29ea11c1",
   "metadata": {},
   "outputs": [],
   "source": [
    "import numpy as np\n",
    "import matplotlib.pyplot as plt\n",
    "import seaborn as sns\n",
    "import pandas as pd"
   ]
  },
  {
   "cell_type": "code",
   "execution_count": 11,
   "id": "a4374fe4",
   "metadata": {},
   "outputs": [],
   "source": [
    "# Grado Fahrenheit F - 32 = C * 1.8 = Y = 1.6*X + 32\n",
    "celsius = np.array([-40,-10,0,8,15,22,38], dtype=float)\n",
    "fahrenheit = np.array([-40,14,32,46,59,72,100], dtype=float)"
   ]
  },
  {
   "cell_type": "code",
   "execution_count": 8,
   "id": "13e08505",
   "metadata": {},
   "outputs": [],
   "source": [
    "from sklearn.linear_model import LinearRegression\n",
    "from sklearn.metrics import mean_squared_error, r2_score"
   ]
  },
  {
   "cell_type": "code",
   "execution_count": 12,
   "id": "2f4c9a34",
   "metadata": {},
   "outputs": [],
   "source": [
    "X = celsius.reshape(-1,1) # transforma un vector a un vector columna [1,2,3] [[1],[2],[3]]\n",
    "Y = fahrenheit.reshape(-1,1)\n",
    "\n",
    "lr = LinearRegression()"
   ]
  },
  {
   "cell_type": "code",
   "execution_count": 14,
   "id": "02abf43a",
   "metadata": {},
   "outputs": [],
   "source": [
    "model = lr.fit(X,Y)"
   ]
  },
  {
   "cell_type": "code",
   "execution_count": 16,
   "id": "f4c2f6be",
   "metadata": {},
   "outputs": [
    {
     "name": "stdout",
     "output_type": "stream",
     "text": [
      "m real [[1.79794911]]\n",
      "m -> 1.79794910748196\n",
      "b -> [31.95252564]\n"
     ]
    }
   ],
   "source": [
    "m = model.coef_\n",
    "b = model.intercept_\n",
    "print(\"m real\", m)\n",
    "print(\"m ->\", m[0][0])\n",
    "print(\"b ->\", b)\n",
    "y = m[0][0]*X + b[0]"
   ]
  },
  {
   "cell_type": "code",
   "execution_count": 21,
   "id": "ebb676bf",
   "metadata": {},
   "outputs": [
    {
     "data": {
      "text/plain": [
       "<AxesSubplot: title={'center': 'C 2 F'}, xlabel='Ce', ylabel='F'>"
      ]
     },
     "execution_count": 21,
     "metadata": {},
     "output_type": "execute_result"
    },
    {
     "data": {
      "image/png": "[encoded data removed]",
      "text/plain": [
       "<Figure size 640x480 with 1 Axes>"
      ]
     },
     "metadata": {},
     "output_type": "display_data"
    }
   ],
   "source": [
    "plt.xlabel(\"Ce\")\n",
    "plt.ylabel(\"F\")\n",
    "plt.title(\"C 2 F\")\n",
    "sns.lineplot(x=celsius,y=fahrenheit, color='red')\n",
    "sns.scatterplot(x=celsius,y=fahrenheit)"
   ]
  },
  {
   "cell_type": "markdown",
   "id": "d09d0ef0",
   "metadata": {},
   "source": [
    "#### R^2: \n",
    "R2: Es una medida de la calidad de ajuste de un modelo de regresión lineal. Representa la proporción de la varianza total en los datos explicada por el modelo. Se representa (por lo general) con un valor entre [0,1] -> Cuanto mayor sea R^2 indicara que el ajuste es más preciso"
   ]
  },
  {
   "cell_type": "code",
   "execution_count": 23,
   "id": "9e5c6e3f",
   "metadata": {},
   "outputs": [
    {
     "name": "stdout",
     "output_type": "stream",
     "text": [
      "MSE:  0.06304595518420045\n",
      "R2:  0.9999637049281158\n"
     ]
    }
   ],
   "source": [
    " mse = mean_squared_error(y,fahrenheit)\n",
    "print(\"MSE: \",mse)\n",
    "r2 = r2_score(y,fahrenheit)\n",
    "print(\"R2: \", r2)"
   ]
  },
  {
   "cell_type": "markdown",
   "id": "3d6f67c0",
   "metadata": {},
   "source": [
    "### Supuestos del modelo de regresión lineal:\n",
    "\n",
    "La regresión lineal asume que los datos deben cumplir las siguientes hipótesis que se verifican analizando el patrón de distribución de los residuos.\n",
    "\n",
    "- **Linealidad:** La relación entre la variable dependiente y la o las variables independientes debe ser lineal. Para verificar la relación lineal puede hacerse un gráfico Residuos vs Valores esperados de Y\n",
    "\n",
    "\n",
    "- **Normalidad de los residuos:** Los residuos deben seguir una distribución normal. Puede realizarse un diagrama Q-Q y ver la distribución\n",
    "\n",
    "\n",
    "- **Homogeneidad de la varianza de los residuos:** Los residuos deben tener una varianza constante (homocedasticidad). Puede realizarse un gráfico scale-location\n",
    "\n",
    "\n",
    "- **Independencia de los residuos:** Los residuos deben ser independientes entre ellos. No debe haber correlación. Para verificar este punto puede realizarse un gráfico de los Residuales vs leverage\n"
   ]
  },
  {
   "cell_type": "markdown",
   "id": "95b1c2af",
   "metadata": {},
   "source": [
    "### ¿Como se aproxima la recta de regresión a través de MSE?\n",
    "\n",
    "Dentro de la rama del cálculo, encontraremos que una de las cosas que podemos hacer es minimizar funciones. En particular, nos interesa en este apartado poder minimizar la función del error cuadrático medio. En matemáticas, la minimización consiste en encontrar la derivada de una función e igualarla a cero para encontrar sus puntos críticos. En particular, la función de costo MSE es una función cuadrática y convexa, por lo que tiene un solo punto crítico y este cumple con la particularidad que es mínimo local (en particular global por ser convexa) de la función de costo.\n",
    "\n",
    "Aclaración: En el mundo de Machine learning no siempre tenemos funciones de este tipo. Nos enfrentamos habitualmente a funciones no-convexas y no es tan simple calcular mínimos desde el punto de vista del cálculo diferencial por lo que existen otros métodos (por lo general iterativos) para calcular estos puntos como es el caso del descenso por gradiente del cual se hablará después.\n"
   ]
  }
 ],
 "metadata": {
  "kernelspec": {
   "display_name": "Python 3 (ipykernel)",
   "language": "python",
   "name": "python3"
  },
  "language_info": {
   "codemirror_mode": {
    "name": "ipython",
    "version": 3
   },
   "file_extension": ".py",
   "mimetype": "text/x-python",
   "name": "python",
   "nbconvert_exporter": "python",
   "pygments_lexer": "ipython3",
   "version": "3.10.9"
  }
 },
 "nbformat": 4,
 "nbformat_minor": 5
}
